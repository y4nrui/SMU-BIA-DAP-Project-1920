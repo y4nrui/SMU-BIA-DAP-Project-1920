{
 "cells": [
  {
   "cell_type": "markdown",
   "metadata": {},
   "source": [
    "### Exercise 3 - Scraping CNA with selenium\n"
   ]
  },
  {
   "cell_type": "code",
   "execution_count": 1,
   "metadata": {},
   "outputs": [],
   "source": [
    "# Imports selenium\n",
    "from selenium import webdriver\n",
    "from selenium.webdriver.common.keys import Keys\n",
    "import time"
   ]
  },
  {
   "cell_type": "code",
   "execution_count": 2,
   "metadata": {},
   "outputs": [],
   "source": [
    "#Obtains user/pw from a text file\n",
    "\n",
    "user = \"\"\n",
    "password = \"\"\n",
    "count = 0\n",
    "with open('userpw.txt','r',errors = 'ignore') as f:\n",
    "    for line in f:\n",
    "        line = line.rstrip(\"\\n\")\n",
    "        line = line.split(\":\")\n",
    "        if count == 0:\n",
    "            user = line[1]\n",
    "        else:\n",
    "            password = line[1]\n",
    "        count += 1\n"
   ]
  },
  {
   "cell_type": "code",
   "execution_count": 3,
   "metadata": {
    "scrolled": true
   },
   "outputs": [],
   "source": [
    "# user= input(\"What is your username\")\n",
    "# password = input(\"What is your password\")"
   ]
  },
  {
   "cell_type": "code",
   "execution_count": null,
   "metadata": {},
   "outputs": [],
   "source": [
    "time.sleep(2)\n",
    "\n",
    "# Opens the chrome webdriver path\n",
    "chrome_path = r\"C:\\Users\\Alwyn\\Downloads\\chromedriver_win32\\chromedriver.exe\"\n",
    "driver = webdriver.Chrome(chrome_path)\n",
    "\n",
    "# Starts the driver for the stated url\n",
    "driver.get(\"https://fbs.intranet.smu.edu.sg/home\")"
   ]
  },
  {
   "cell_type": "code",
   "execution_count": null,
   "metadata": {},
   "outputs": [],
   "source": [
    "time.sleep(2)\n",
    "#Enters Username and Password\n",
    "driver.find_element_by_css_selector(\"input#userNameInput.text.fullWidth\").click()\n",
    "driver.find_element_by_css_selector(\"input#userNameInput.text.fullWidth\").send_keys(user)\n",
    "\n",
    "driver.find_element_by_css_selector(\"input#passwordInput.text.fullWidth\").click()\n",
    "driver.find_element_by_css_selector(\"input#passwordInput.text.fullWidth\").send_keys(password)\n",
    "\n",
    "driver.find_element_by_css_selector(\"span#submitButton.submit\").click()"
   ]
  },
  {
   "cell_type": "code",
   "execution_count": null,
   "metadata": {
    "scrolled": false
   },
   "outputs": [],
   "source": [
    "time.sleep(2)\n",
    "#Clicks building name\n",
    "driver.switch_to_frame(driver.find_element_by_tag_name('iframe'))\n",
    "driver.switch_to_frame(driver.find_element_by_tag_name('iframe'))\n",
    "driver.find_element_by_id('DropMultiBuildingList_c1_panelInputs').click()        "
   ]
  },
  {
   "cell_type": "code",
   "execution_count": null,
   "metadata": {
    "scrolled": true
   },
   "outputs": [],
   "source": [
    "time.sleep(2)\n",
    "#Building name will be a list of elements, in this case 8 is information systems\n",
    "driver.find_element_by_id(\"8\").click()"
   ]
  },
  {
   "cell_type": "code",
   "execution_count": null,
   "metadata": {},
   "outputs": [],
   "source": [
    "time.sleep(2)\n",
    "#Clicks ok button after selecting building\n",
    "driver.find_element_by_xpath(\"//*[@id='DropMultiBuildingList_c1_panelTreeView']/input[1]\").click()"
   ]
  },
  {
   "cell_type": "code",
   "execution_count": null,
   "metadata": {},
   "outputs": [],
   "source": [
    "time.sleep(2)\n",
    "#Clicks on check availability\n",
    "driver.find_element_by_xpath(\"//*[@id='CheckAvailability']/span\").click()"
   ]
  },
  {
   "cell_type": "code",
   "execution_count": 7,
   "metadata": {
    "scrolled": true
   },
   "outputs": [
    {
     "ename": "WebDriverException",
     "evalue": "Message: chrome not reachable\n  (Session info: chrome=79.0.3945.130)\n",
     "output_type": "error",
     "traceback": [
      "\u001b[1;31m---------------------------------------------------------------------------\u001b[0m",
      "\u001b[1;31mWebDriverException\u001b[0m                        Traceback (most recent call last)",
      "\u001b[1;32m<ipython-input-7-25aaeb8018b9>\u001b[0m in \u001b[0;36m<module>\u001b[1;34m()\u001b[0m\n\u001b[0;32m      1\u001b[0m \u001b[0mtime\u001b[0m\u001b[1;33m.\u001b[0m\u001b[0msleep\u001b[0m\u001b[1;33m(\u001b[0m\u001b[1;36m2\u001b[0m\u001b[1;33m)\u001b[0m\u001b[1;33m\u001b[0m\u001b[0m\n\u001b[1;32m----> 2\u001b[1;33m \u001b[0mdriver\u001b[0m\u001b[1;33m.\u001b[0m\u001b[0mswitch_to_frame\u001b[0m\u001b[1;33m(\u001b[0m\u001b[0mdriver\u001b[0m\u001b[1;33m.\u001b[0m\u001b[0mfind_element_by_tag_name\u001b[0m\u001b[1;33m(\u001b[0m\u001b[1;34m'iframe'\u001b[0m\u001b[1;33m)\u001b[0m\u001b[1;33m)\u001b[0m\u001b[1;33m\u001b[0m\u001b[0m\n\u001b[0m\u001b[0;32m      3\u001b[0m \u001b[0mdriver\u001b[0m\u001b[1;33m.\u001b[0m\u001b[0mswitch_to_frame\u001b[0m\u001b[1;33m(\u001b[0m\u001b[0mdriver\u001b[0m\u001b[1;33m.\u001b[0m\u001b[0mfind_element_by_tag_name\u001b[0m\u001b[1;33m(\u001b[0m\u001b[1;34m'iframe'\u001b[0m\u001b[1;33m)\u001b[0m\u001b[1;33m)\u001b[0m\u001b[1;33m\u001b[0m\u001b[0m\n",
      "\u001b[1;32m~\\Anaconda3\\lib\\site-packages\\selenium\\webdriver\\remote\\webdriver.py\u001b[0m in \u001b[0;36mfind_element_by_tag_name\u001b[1;34m(self, name)\u001b[0m\n\u001b[0;32m    528\u001b[0m             \u001b[0melement\u001b[0m \u001b[1;33m=\u001b[0m \u001b[0mdriver\u001b[0m\u001b[1;33m.\u001b[0m\u001b[0mfind_element_by_tag_name\u001b[0m\u001b[1;33m(\u001b[0m\u001b[1;34m'h1'\u001b[0m\u001b[1;33m)\u001b[0m\u001b[1;33m\u001b[0m\u001b[0m\n\u001b[0;32m    529\u001b[0m         \"\"\"\n\u001b[1;32m--> 530\u001b[1;33m         \u001b[1;32mreturn\u001b[0m \u001b[0mself\u001b[0m\u001b[1;33m.\u001b[0m\u001b[0mfind_element\u001b[0m\u001b[1;33m(\u001b[0m\u001b[0mby\u001b[0m\u001b[1;33m=\u001b[0m\u001b[0mBy\u001b[0m\u001b[1;33m.\u001b[0m\u001b[0mTAG_NAME\u001b[0m\u001b[1;33m,\u001b[0m \u001b[0mvalue\u001b[0m\u001b[1;33m=\u001b[0m\u001b[0mname\u001b[0m\u001b[1;33m)\u001b[0m\u001b[1;33m\u001b[0m\u001b[0m\n\u001b[0m\u001b[0;32m    531\u001b[0m \u001b[1;33m\u001b[0m\u001b[0m\n\u001b[0;32m    532\u001b[0m     \u001b[1;32mdef\u001b[0m \u001b[0mfind_elements_by_tag_name\u001b[0m\u001b[1;33m(\u001b[0m\u001b[0mself\u001b[0m\u001b[1;33m,\u001b[0m \u001b[0mname\u001b[0m\u001b[1;33m)\u001b[0m\u001b[1;33m:\u001b[0m\u001b[1;33m\u001b[0m\u001b[0m\n",
      "\u001b[1;32m~\\Anaconda3\\lib\\site-packages\\selenium\\webdriver\\remote\\webdriver.py\u001b[0m in \u001b[0;36mfind_element\u001b[1;34m(self, by, value)\u001b[0m\n\u001b[0;32m    976\u001b[0m         return self.execute(Command.FIND_ELEMENT, {\n\u001b[0;32m    977\u001b[0m             \u001b[1;34m'using'\u001b[0m\u001b[1;33m:\u001b[0m \u001b[0mby\u001b[0m\u001b[1;33m,\u001b[0m\u001b[1;33m\u001b[0m\u001b[0m\n\u001b[1;32m--> 978\u001b[1;33m             'value': value})['value']\n\u001b[0m\u001b[0;32m    979\u001b[0m \u001b[1;33m\u001b[0m\u001b[0m\n\u001b[0;32m    980\u001b[0m     \u001b[1;32mdef\u001b[0m \u001b[0mfind_elements\u001b[0m\u001b[1;33m(\u001b[0m\u001b[0mself\u001b[0m\u001b[1;33m,\u001b[0m \u001b[0mby\u001b[0m\u001b[1;33m=\u001b[0m\u001b[0mBy\u001b[0m\u001b[1;33m.\u001b[0m\u001b[0mID\u001b[0m\u001b[1;33m,\u001b[0m \u001b[0mvalue\u001b[0m\u001b[1;33m=\u001b[0m\u001b[1;32mNone\u001b[0m\u001b[1;33m)\u001b[0m\u001b[1;33m:\u001b[0m\u001b[1;33m\u001b[0m\u001b[0m\n",
      "\u001b[1;32m~\\Anaconda3\\lib\\site-packages\\selenium\\webdriver\\remote\\webdriver.py\u001b[0m in \u001b[0;36mexecute\u001b[1;34m(self, driver_command, params)\u001b[0m\n\u001b[0;32m    319\u001b[0m         \u001b[0mresponse\u001b[0m \u001b[1;33m=\u001b[0m \u001b[0mself\u001b[0m\u001b[1;33m.\u001b[0m\u001b[0mcommand_executor\u001b[0m\u001b[1;33m.\u001b[0m\u001b[0mexecute\u001b[0m\u001b[1;33m(\u001b[0m\u001b[0mdriver_command\u001b[0m\u001b[1;33m,\u001b[0m \u001b[0mparams\u001b[0m\u001b[1;33m)\u001b[0m\u001b[1;33m\u001b[0m\u001b[0m\n\u001b[0;32m    320\u001b[0m         \u001b[1;32mif\u001b[0m \u001b[0mresponse\u001b[0m\u001b[1;33m:\u001b[0m\u001b[1;33m\u001b[0m\u001b[0m\n\u001b[1;32m--> 321\u001b[1;33m             \u001b[0mself\u001b[0m\u001b[1;33m.\u001b[0m\u001b[0merror_handler\u001b[0m\u001b[1;33m.\u001b[0m\u001b[0mcheck_response\u001b[0m\u001b[1;33m(\u001b[0m\u001b[0mresponse\u001b[0m\u001b[1;33m)\u001b[0m\u001b[1;33m\u001b[0m\u001b[0m\n\u001b[0m\u001b[0;32m    322\u001b[0m             response['value'] = self._unwrap_value(\n\u001b[0;32m    323\u001b[0m                 response.get('value', None))\n",
      "\u001b[1;32m~\\Anaconda3\\lib\\site-packages\\selenium\\webdriver\\remote\\errorhandler.py\u001b[0m in \u001b[0;36mcheck_response\u001b[1;34m(self, response)\u001b[0m\n\u001b[0;32m    240\u001b[0m                 \u001b[0malert_text\u001b[0m \u001b[1;33m=\u001b[0m \u001b[0mvalue\u001b[0m\u001b[1;33m[\u001b[0m\u001b[1;34m'alert'\u001b[0m\u001b[1;33m]\u001b[0m\u001b[1;33m.\u001b[0m\u001b[0mget\u001b[0m\u001b[1;33m(\u001b[0m\u001b[1;34m'text'\u001b[0m\u001b[1;33m)\u001b[0m\u001b[1;33m\u001b[0m\u001b[0m\n\u001b[0;32m    241\u001b[0m             \u001b[1;32mraise\u001b[0m \u001b[0mexception_class\u001b[0m\u001b[1;33m(\u001b[0m\u001b[0mmessage\u001b[0m\u001b[1;33m,\u001b[0m \u001b[0mscreen\u001b[0m\u001b[1;33m,\u001b[0m \u001b[0mstacktrace\u001b[0m\u001b[1;33m,\u001b[0m \u001b[0malert_text\u001b[0m\u001b[1;33m)\u001b[0m\u001b[1;33m\u001b[0m\u001b[0m\n\u001b[1;32m--> 242\u001b[1;33m         \u001b[1;32mraise\u001b[0m \u001b[0mexception_class\u001b[0m\u001b[1;33m(\u001b[0m\u001b[0mmessage\u001b[0m\u001b[1;33m,\u001b[0m \u001b[0mscreen\u001b[0m\u001b[1;33m,\u001b[0m \u001b[0mstacktrace\u001b[0m\u001b[1;33m)\u001b[0m\u001b[1;33m\u001b[0m\u001b[0m\n\u001b[0m\u001b[0;32m    243\u001b[0m \u001b[1;33m\u001b[0m\u001b[0m\n\u001b[0;32m    244\u001b[0m     \u001b[1;32mdef\u001b[0m \u001b[0m_value_or_default\u001b[0m\u001b[1;33m(\u001b[0m\u001b[0mself\u001b[0m\u001b[1;33m,\u001b[0m \u001b[0mobj\u001b[0m\u001b[1;33m,\u001b[0m \u001b[0mkey\u001b[0m\u001b[1;33m,\u001b[0m \u001b[0mdefault\u001b[0m\u001b[1;33m)\u001b[0m\u001b[1;33m:\u001b[0m\u001b[1;33m\u001b[0m\u001b[0m\n",
      "\u001b[1;31mWebDriverException\u001b[0m: Message: chrome not reachable\n  (Session info: chrome=79.0.3945.130)\n"
     ]
    }
   ],
   "source": [
    "time.sleep(2)\n",
    "driver.switch_to_frame(driver.find_element_by_tag_name('iframe'))\n",
    "driver.switch_to_frame(driver.find_element_by_tag_name('iframe'))"
   ]
  },
  {
   "cell_type": "code",
   "execution_count": null,
   "metadata": {},
   "outputs": [],
   "source": [
    "#Finds a list of current bookings\n",
    "\n",
    "time.sleep(2)\n",
    "class_list = driver.find_elements_by_css_selector(\"div.scheduler_bluewhite_event.scheduler_bluewhite_event_line0\")\n",
    "# class_list = driver.find_elements_by_xpath(\"//*[@id='dps']/div[3]/div[3]/div/div[10]/div[9]\")\n",
    "# class_list = driver.find_elements_by_class_name(\"scheduler_bluewhite_event scheduler_bluewhite_event_line0\")\n",
    "# print(class_list)\n",
    "for classes in class_list:\n",
    "    print(classes.get_attribute(\"title\"))\n",
    "    "
   ]
  },
  {
   "cell_type": "code",
   "execution_count": null,
   "metadata": {},
   "outputs": [],
   "source": [
    "# to get all the room names in your view\n",
    "# yet to implement scrolling\n",
    "rooms = driver.find_elements_by_css_selector(\"div.scheduler_bluewhite_rowheader_inner\")\n",
    "\n",
    "for room in rooms:\n",
    "    print(room.text)"
   ]
  },
  {
   "cell_type": "code",
   "execution_count": null,
   "metadata": {},
   "outputs": [],
   "source": [
    "#Dropdown dict\n",
    "dropdown_dict = {\"building\":[\"Administration Building\",\"Campus Open Spaces - Events/Activities\",\n",
    "                             \"Concourse - Room/Lab\", \"Lee Kong Chian School of Business\",\n",
    "                             \"Li Ka Shing Library\", \"Prinsep Street Residences\", \"School of Accountancy\",\n",
    "                             \"School of Economics/School of Social Sciences\",\"School of Information Systems\",\n",
    "                             \"School of Law/Kwa Geok Choo Law Library\", \"SMU Connexion\"],\n",
    "                 \"facility_type\": [\"Classroom\",\"Group Study Room\",\"Seminar Room\"]\n",
    "                }\n",
    "\n",
    "def get_dropdown_index(dropdown_dict,dropdown_type,dropdown_button):\n",
    "    #Takes in the following:\n",
    "    #dropdown_dict: in the format {\"building\":[\"SIS\",\"SOE\"},\"facility_type\":[\"GSR\",[\"SR\"]} (not exact)...\n",
    "    #dropdown_type: whether it is building/facility/..\n",
    "    #dropdown_button: the type of building/facility/ to be select, i.e. GSR for facility, SOE for building\n",
    "    \n",
    "    #Returns:\n",
    "    #an index to obtain the button to press in the dropdown list to be used to find the class\n",
    "    \n",
    "    #Returns a list of all the different options in the dropdown\n",
    "    dropdown_list = dropdown_dict[dropdown_type]\n",
    "    \n",
    "    #Returns the index of the element in the list\n",
    "    index = dropdown_list.index(dropdown_button)\n",
    "    \n",
    "    return index\n",
    "    \n",
    "# time.sleep(10)\n",
    "#Selects Building\n",
    "# building_container = driver.find_element_by_css_selector(\"input#DropMultiBuildingList_c1).click()\n",
    "# building_container = driver.find_element_by_css_selector(\"span_'3'\").click()\n",
    "\n",
    "\n",
    "#Building type to be made dynamic \n",
    "# building_num = get_dropdown_index(dropdown_dict,\"building\",\"School of Information Systems\")\n",
    "# building = driver.find_element_by_css_selector(\"span#span_{building_num}\").click()\n",
    "\n",
    "# driver.switch_to.frame(driver.find_element_by_id(\"frameBottom\"))\n",
    "# driver.find_element_by_xpath('//*[@id=\"DropMultiBuildingList_c1::ddl::\"]')\n",
    "# driver.find_element_by_id('DropMultiBuildingList_c1_textItem').click()\n",
    "# labels = driver.find_elements_by_tag_name('label')\n",
    "# for label in labels:\n",
    "#     print(label.text())"
   ]
  }
 ],
 "metadata": {
  "kernelspec": {
   "display_name": "Python 3",
   "language": "python",
   "name": "python3"
  },
  "language_info": {
   "codemirror_mode": {
    "name": "ipython",
    "version": 3
   },
   "file_extension": ".py",
   "mimetype": "text/x-python",
   "name": "python",
   "nbconvert_exporter": "python",
   "pygments_lexer": "ipython3",
   "version": "3.6.5"
  }
 },
 "nbformat": 4,
 "nbformat_minor": 2
}
