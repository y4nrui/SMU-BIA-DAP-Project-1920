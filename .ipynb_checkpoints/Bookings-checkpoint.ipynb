{
 "cells": [
  {
   "cell_type": "code",
   "execution_count": 1,
   "metadata": {},
   "outputs": [],
   "source": [
    "import pandas as pd\n",
    "import numpy as np\n",
    "from pandas import DataFrame\n",
    "\n",
    "#For plotting\n",
    "import matplotlib.pyplot as plt\n",
    "import matplotlib\n",
    "import seaborn as sns\n",
    "from scipy.stats import norm\n",
    "sns.set()"
   ]
  },
  {
   "cell_type": "code",
   "execution_count": 97,
   "metadata": {},
   "outputs": [],
   "source": [
    "from datetime import datetime,timedelta\n"
   ]
  },
  {
   "cell_type": "code",
   "execution_count": 5,
   "metadata": {},
   "outputs": [],
   "source": [
    "bookings = pd.read_csv('Data\\SIS_bookings_0802.csv')"
   ]
  },
  {
   "cell_type": "code",
   "execution_count": 6,
   "metadata": {},
   "outputs": [
    {
     "data": {
      "text/html": [
       "<div>\n",
       "<style scoped>\n",
       "    .dataframe tbody tr th:only-of-type {\n",
       "        vertical-align: middle;\n",
       "    }\n",
       "\n",
       "    .dataframe tbody tr th {\n",
       "        vertical-align: top;\n",
       "    }\n",
       "\n",
       "    .dataframe thead th {\n",
       "        text-align: right;\n",
       "    }\n",
       "</style>\n",
       "<table border=\"1\" class=\"dataframe\">\n",
       "  <thead>\n",
       "    <tr style=\"text-align: right;\">\n",
       "      <th></th>\n",
       "      <th>Unnamed: 0</th>\n",
       "      <th>0</th>\n",
       "      <th>1</th>\n",
       "      <th>2</th>\n",
       "      <th>3</th>\n",
       "    </tr>\n",
       "  </thead>\n",
       "  <tbody>\n",
       "    <tr>\n",
       "      <td>0</td>\n",
       "      <td>0</td>\n",
       "      <td>Day</td>\n",
       "      <td>Facility</td>\n",
       "      <td>Booking Time</td>\n",
       "      <td>Purpose</td>\n",
       "    </tr>\n",
       "    <tr>\n",
       "      <td>1</td>\n",
       "      <td>1</td>\n",
       "      <td>8 February 2020, Saturday</td>\n",
       "      <td>SIS Class Rm B1-1</td>\n",
       "      <td>08:30-12:30</td>\n",
       "      <td>Student</td>\n",
       "    </tr>\n",
       "    <tr>\n",
       "      <td>2</td>\n",
       "      <td>2</td>\n",
       "      <td>8 February 2020, Saturday</td>\n",
       "      <td>SIS GSR 2-1</td>\n",
       "      <td>13:00-17:00</td>\n",
       "      <td>Student</td>\n",
       "    </tr>\n",
       "    <tr>\n",
       "      <td>3</td>\n",
       "      <td>3</td>\n",
       "      <td>8 February 2020, Saturday</td>\n",
       "      <td>SIS GSR 2-5</td>\n",
       "      <td>10:00-14:00</td>\n",
       "      <td>Student</td>\n",
       "    </tr>\n",
       "    <tr>\n",
       "      <td>4</td>\n",
       "      <td>4</td>\n",
       "      <td>8 February 2020, Saturday</td>\n",
       "      <td>SIS GSR 2-6</td>\n",
       "      <td>13:00-17:00</td>\n",
       "      <td>Student</td>\n",
       "    </tr>\n",
       "    <tr>\n",
       "      <td>...</td>\n",
       "      <td>...</td>\n",
       "      <td>...</td>\n",
       "      <td>...</td>\n",
       "      <td>...</td>\n",
       "      <td>...</td>\n",
       "    </tr>\n",
       "    <tr>\n",
       "      <td>801</td>\n",
       "      <td>801</td>\n",
       "      <td>27 January 2020, Monday</td>\n",
       "      <td>SIS GSR 3-6</td>\n",
       "      <td>12:00-15:30</td>\n",
       "      <td>Timetabling &amp; Course Enrolment</td>\n",
       "    </tr>\n",
       "    <tr>\n",
       "      <td>802</td>\n",
       "      <td>802</td>\n",
       "      <td>27 January 2020, Monday</td>\n",
       "      <td>SIS GSR 3-6</td>\n",
       "      <td>19:00-22:30</td>\n",
       "      <td>Student</td>\n",
       "    </tr>\n",
       "    <tr>\n",
       "      <td>803</td>\n",
       "      <td>803</td>\n",
       "      <td>26 January 2020, Sunday</td>\n",
       "      <td>SIS GSR 3-5</td>\n",
       "      <td>14:30-17:00</td>\n",
       "      <td>Student</td>\n",
       "    </tr>\n",
       "    <tr>\n",
       "      <td>804</td>\n",
       "      <td>804</td>\n",
       "      <td>25 January 2020, Saturday</td>\n",
       "      <td>SIS GSR 3-6</td>\n",
       "      <td>13:30-17:00</td>\n",
       "      <td>Faculty</td>\n",
       "    </tr>\n",
       "    <tr>\n",
       "      <td>805</td>\n",
       "      <td>805</td>\n",
       "      <td>25 January 2020, Saturday</td>\n",
       "      <td>SIS GSR 3-6</td>\n",
       "      <td>13:30-17:00</td>\n",
       "      <td>Faculty</td>\n",
       "    </tr>\n",
       "  </tbody>\n",
       "</table>\n",
       "<p>806 rows × 5 columns</p>\n",
       "</div>"
      ],
      "text/plain": [
       "     Unnamed: 0                          0                  1             2  \\\n",
       "0             0                        Day           Facility  Booking Time   \n",
       "1             1  8 February 2020, Saturday  SIS Class Rm B1-1   08:30-12:30   \n",
       "2             2  8 February 2020, Saturday        SIS GSR 2-1   13:00-17:00   \n",
       "3             3  8 February 2020, Saturday        SIS GSR 2-5   10:00-14:00   \n",
       "4             4  8 February 2020, Saturday        SIS GSR 2-6   13:00-17:00   \n",
       "..          ...                        ...                ...           ...   \n",
       "801         801    27 January 2020, Monday        SIS GSR 3-6   12:00-15:30   \n",
       "802         802    27 January 2020, Monday        SIS GSR 3-6   19:00-22:30   \n",
       "803         803    26 January 2020, Sunday        SIS GSR 3-5   14:30-17:00   \n",
       "804         804  25 January 2020, Saturday        SIS GSR 3-6   13:30-17:00   \n",
       "805         805  25 January 2020, Saturday        SIS GSR 3-6   13:30-17:00   \n",
       "\n",
       "                                  3  \n",
       "0                           Purpose  \n",
       "1                           Student  \n",
       "2                           Student  \n",
       "3                           Student  \n",
       "4                           Student  \n",
       "..                              ...  \n",
       "801  Timetabling & Course Enrolment  \n",
       "802                         Student  \n",
       "803                         Student  \n",
       "804                         Faculty  \n",
       "805                         Faculty  \n",
       "\n",
       "[806 rows x 5 columns]"
      ]
     },
     "execution_count": 6,
     "metadata": {},
     "output_type": "execute_result"
    }
   ],
   "source": [
    "bookings"
   ]
  },
  {
   "cell_type": "code",
   "execution_count": 7,
   "metadata": {},
   "outputs": [
    {
     "data": {
      "text/plain": [
       "0      Booking Time\n",
       "1       08:30-12:30\n",
       "2       13:00-17:00\n",
       "3       10:00-14:00\n",
       "4       13:00-17:00\n",
       "           ...     \n",
       "801     12:00-15:30\n",
       "802     19:00-22:30\n",
       "803     14:30-17:00\n",
       "804     13:30-17:00\n",
       "805     13:30-17:00\n",
       "Name: 2, Length: 806, dtype: object"
      ]
     },
     "execution_count": 7,
     "metadata": {},
     "output_type": "execute_result"
    }
   ],
   "source": [
    "bookings['2']"
   ]
  },
  {
   "cell_type": "code",
   "execution_count": 9,
   "metadata": {},
   "outputs": [
    {
     "data": {
      "text/plain": [
       "Unnamed: 0    806\n",
       "0             806\n",
       "1             806\n",
       "2             806\n",
       "3             806\n",
       "dtype: int64"
      ]
     },
     "execution_count": 9,
     "metadata": {},
     "output_type": "execute_result"
    }
   ],
   "source": [
    "bookings.count()"
   ]
  },
  {
   "cell_type": "code",
   "execution_count": 10,
   "metadata": {},
   "outputs": [],
   "source": [
    "bookings = bookings.rename(columns={'0' : 'Day', '1': 'Facility', '2':'Booking Time', '3': 'Purpose'})"
   ]
  },
  {
   "cell_type": "code",
   "execution_count": 11,
   "metadata": {},
   "outputs": [],
   "source": [
    "bookings = bookings.drop(columns='Unnamed: 0')"
   ]
  },
  {
   "cell_type": "code",
   "execution_count": 12,
   "metadata": {},
   "outputs": [],
   "source": [
    "bookings = bookings.drop(bookings.index[0])"
   ]
  },
  {
   "cell_type": "code",
   "execution_count": 13,
   "metadata": {},
   "outputs": [
    {
     "data": {
      "text/html": [
       "<div>\n",
       "<style scoped>\n",
       "    .dataframe tbody tr th:only-of-type {\n",
       "        vertical-align: middle;\n",
       "    }\n",
       "\n",
       "    .dataframe tbody tr th {\n",
       "        vertical-align: top;\n",
       "    }\n",
       "\n",
       "    .dataframe thead th {\n",
       "        text-align: right;\n",
       "    }\n",
       "</style>\n",
       "<table border=\"1\" class=\"dataframe\">\n",
       "  <thead>\n",
       "    <tr style=\"text-align: right;\">\n",
       "      <th></th>\n",
       "      <th>Day</th>\n",
       "      <th>Facility</th>\n",
       "      <th>Booking Time</th>\n",
       "      <th>Purpose</th>\n",
       "    </tr>\n",
       "  </thead>\n",
       "  <tbody>\n",
       "    <tr>\n",
       "      <td>1</td>\n",
       "      <td>8 February 2020, Saturday</td>\n",
       "      <td>SIS Class Rm B1-1</td>\n",
       "      <td>08:30-12:30</td>\n",
       "      <td>Student</td>\n",
       "    </tr>\n",
       "    <tr>\n",
       "      <td>2</td>\n",
       "      <td>8 February 2020, Saturday</td>\n",
       "      <td>SIS GSR 2-1</td>\n",
       "      <td>13:00-17:00</td>\n",
       "      <td>Student</td>\n",
       "    </tr>\n",
       "    <tr>\n",
       "      <td>3</td>\n",
       "      <td>8 February 2020, Saturday</td>\n",
       "      <td>SIS GSR 2-5</td>\n",
       "      <td>10:00-14:00</td>\n",
       "      <td>Student</td>\n",
       "    </tr>\n",
       "    <tr>\n",
       "      <td>4</td>\n",
       "      <td>8 February 2020, Saturday</td>\n",
       "      <td>SIS GSR 2-6</td>\n",
       "      <td>13:00-17:00</td>\n",
       "      <td>Student</td>\n",
       "    </tr>\n",
       "    <tr>\n",
       "      <td>5</td>\n",
       "      <td>8 February 2020, Saturday</td>\n",
       "      <td>SIS GSR 3-1</td>\n",
       "      <td>10:30-14:30</td>\n",
       "      <td>Student</td>\n",
       "    </tr>\n",
       "    <tr>\n",
       "      <td>...</td>\n",
       "      <td>...</td>\n",
       "      <td>...</td>\n",
       "      <td>...</td>\n",
       "      <td>...</td>\n",
       "    </tr>\n",
       "    <tr>\n",
       "      <td>801</td>\n",
       "      <td>27 January 2020, Monday</td>\n",
       "      <td>SIS GSR 3-6</td>\n",
       "      <td>12:00-15:30</td>\n",
       "      <td>Timetabling &amp; Course Enrolment</td>\n",
       "    </tr>\n",
       "    <tr>\n",
       "      <td>802</td>\n",
       "      <td>27 January 2020, Monday</td>\n",
       "      <td>SIS GSR 3-6</td>\n",
       "      <td>19:00-22:30</td>\n",
       "      <td>Student</td>\n",
       "    </tr>\n",
       "    <tr>\n",
       "      <td>803</td>\n",
       "      <td>26 January 2020, Sunday</td>\n",
       "      <td>SIS GSR 3-5</td>\n",
       "      <td>14:30-17:00</td>\n",
       "      <td>Student</td>\n",
       "    </tr>\n",
       "    <tr>\n",
       "      <td>804</td>\n",
       "      <td>25 January 2020, Saturday</td>\n",
       "      <td>SIS GSR 3-6</td>\n",
       "      <td>13:30-17:00</td>\n",
       "      <td>Faculty</td>\n",
       "    </tr>\n",
       "    <tr>\n",
       "      <td>805</td>\n",
       "      <td>25 January 2020, Saturday</td>\n",
       "      <td>SIS GSR 3-6</td>\n",
       "      <td>13:30-17:00</td>\n",
       "      <td>Faculty</td>\n",
       "    </tr>\n",
       "  </tbody>\n",
       "</table>\n",
       "<p>805 rows × 4 columns</p>\n",
       "</div>"
      ],
      "text/plain": [
       "                           Day           Facility Booking Time  \\\n",
       "1    8 February 2020, Saturday  SIS Class Rm B1-1  08:30-12:30   \n",
       "2    8 February 2020, Saturday        SIS GSR 2-1  13:00-17:00   \n",
       "3    8 February 2020, Saturday        SIS GSR 2-5  10:00-14:00   \n",
       "4    8 February 2020, Saturday        SIS GSR 2-6  13:00-17:00   \n",
       "5    8 February 2020, Saturday        SIS GSR 3-1  10:30-14:30   \n",
       "..                         ...                ...          ...   \n",
       "801    27 January 2020, Monday        SIS GSR 3-6  12:00-15:30   \n",
       "802    27 January 2020, Monday        SIS GSR 3-6  19:00-22:30   \n",
       "803    26 January 2020, Sunday        SIS GSR 3-5  14:30-17:00   \n",
       "804  25 January 2020, Saturday        SIS GSR 3-6  13:30-17:00   \n",
       "805  25 January 2020, Saturday        SIS GSR 3-6  13:30-17:00   \n",
       "\n",
       "                            Purpose  \n",
       "1                           Student  \n",
       "2                           Student  \n",
       "3                           Student  \n",
       "4                           Student  \n",
       "5                           Student  \n",
       "..                              ...  \n",
       "801  Timetabling & Course Enrolment  \n",
       "802                         Student  \n",
       "803                         Student  \n",
       "804                         Faculty  \n",
       "805                         Faculty  \n",
       "\n",
       "[805 rows x 4 columns]"
      ]
     },
     "execution_count": 13,
     "metadata": {},
     "output_type": "execute_result"
    }
   ],
   "source": [
    "bookings"
   ]
  },
  {
   "cell_type": "code",
   "execution_count": 14,
   "metadata": {},
   "outputs": [
    {
     "data": {
      "text/plain": [
       "Day             487\n",
       "Facility        487\n",
       "Booking Time    487\n",
       "Purpose         487\n",
       "dtype: int64"
      ]
     },
     "execution_count": 14,
     "metadata": {},
     "output_type": "execute_result"
    }
   ],
   "source": [
    "bookings[bookings['Purpose'] =='Student'].count()"
   ]
  },
  {
   "cell_type": "code",
   "execution_count": 15,
   "metadata": {},
   "outputs": [
    {
     "data": {
      "text/plain": [
       "array(['SIS Class Rm B1-1', 'SIS GSR 2-1', 'SIS GSR 2-5', 'SIS GSR 2-6',\n",
       "       'SIS GSR 3-1', 'SIS GSR 3-2', 'SIS GSR 3-3', 'SIS GSR 3-5',\n",
       "       'SIS GSR 3-6', 'SIS Seminar Rm B1-1', 'SIS Seminar Room 2-1',\n",
       "       'SIS Seminar Room 2-2', 'SIS Seminar Room 2-3',\n",
       "       'SIS Seminar Room 2-4', 'SIS Seminar Room 3-3', 'SIS GSR 2-2',\n",
       "       'SIS GSR 2-3', 'SIS GSR 2-4', 'SIS GSR 2-7', 'SIS GSR 3-4',\n",
       "       'SIS Seminar Room 3-1', 'SIS Seminar Room 3-2',\n",
       "       'SIS Seminar Room 3-4'], dtype=object)"
      ]
     },
     "execution_count": 15,
     "metadata": {},
     "output_type": "execute_result"
    }
   ],
   "source": [
    "bookings['Facility'].unique()"
   ]
  },
  {
   "cell_type": "code",
   "execution_count": 16,
   "metadata": {},
   "outputs": [
    {
     "data": {
      "text/plain": [
       "array(['Student', 'Faculty', 'SIS PG by Course Work',\n",
       "       'Institute of Innovation and Entrepreneurship',\n",
       "       'Office of the Dean', 'Learning Space Technology Services',\n",
       "       'Creative Experience and Partnerships Team', 'SIS Instructors',\n",
       "       'Timetabling & Course Enrolment', 'Conference',\n",
       "       'Living Analytics Research Centre',\n",
       "       'School of Information Systems',\n",
       "       'SIS Research Centre (Extenal Funded)', 'SMU Academy',\n",
       "       'Office of Safety & Security', 'Student Leadership',\n",
       "       'International Student Exchange Programme (Inbound/Outbound) and Short term Study Programme'],\n",
       "      dtype=object)"
      ]
     },
     "execution_count": 16,
     "metadata": {},
     "output_type": "execute_result"
    }
   ],
   "source": [
    "bookings['Purpose'].unique()"
   ]
  },
  {
   "cell_type": "code",
   "execution_count": 17,
   "metadata": {},
   "outputs": [
    {
     "data": {
      "text/plain": [
       "array(['08:30-12:30', '13:00-17:00', '10:00-14:00', '10:30-14:30',\n",
       "       '09:00-13:00', '15:30-17:00', '08:00-09:00', '09:00-09:30',\n",
       "       '09:30-10:00', '10:00-10:30', '10:30-11:00', '11:00-11:30',\n",
       "       '11:30-12:00', '13:30-17:00', '09:00-12:30', '08:30-14:00',\n",
       "       '08:00-17:00', '08:00-13:45', '14:00-19:30', '19:30-22:30',\n",
       "       '14:00-17:00', '17:00-20:00', '09:00-12:00', '12:00-13:00',\n",
       "       '18:00-21:30', '10:30-11:30', '12:30-13:30', '14:00-15:00',\n",
       "       '15:30-16:30', '16:30-18:00', '11:30-15:30', '15:30-19:30',\n",
       "       '11:00-14:00', '12:30-16:30', '16:30-18:30', '12:00-16:00',\n",
       "       '16:00-20:00', '09:30-12:00', '12:00-15:30', '19:30-22:00',\n",
       "       '10:00-12:00', '16:00-19:00', '13:00-16:00', '08:00-11:30',\n",
       "       '15:30-18:45', '19:00-22:30', '15:30-18:30', '12:00-15:15',\n",
       "       '12:00-15:45', '16:00-18:45', '15:30-22:30', '11:30-13:45',\n",
       "       '14:00-19:00', '09:30-18:30', '19:00-22:00', '08:30-12:00',\n",
       "       '08:30-11:30', '15:30-19:00', '11:00-12:00', '11:30-14:00',\n",
       "       '15:00-19:00', '12:00-15:00', '15:00-17:30', '18:00-22:00',\n",
       "       '19:00-21:30', '08:30-10:00', '20:00-22:30', '16:00-22:30',\n",
       "       '12:00-13:30', '13:30-17:30', '19:00-21:00', '09:30-12:30',\n",
       "       '12:30-15:30', '15:30-18:00', '16:30-20:30', '20:30-22:30',\n",
       "       '08:00-11:45', '09:30-11:30', '16:30-19:00', '15:30-16:00',\n",
       "       '15:00-18:00', '18:30-20:00', '16:00-18:00', '11:00-19:00',\n",
       "       '18:30-22:00', '15:30-17:30', '17:30-19:00', '09:00-11:45',\n",
       "       '10:30-12:00', '16:00-19:30', '18:00-21:00', '09:00-11:00',\n",
       "       '11:30-15:00', '12:30-16:00', '18:00-19:00', '13:30-18:30',\n",
       "       '14:00-16:00', '14:30-17:00', '09:30-13:30', '11:00-15:00',\n",
       "       '14:30-15:00', '15:00-17:00', '13:30-15:30', '09:00-18:00',\n",
       "       '13:00-15:15', '10:00-11:45', '12:30-14:00', '18:30-20:30',\n",
       "       '22:00-22:30', '17:30-20:30', '00:00-10:30', '11:00-18:45',\n",
       "       '09:00-11:30', '10:00-13:00', '13:00-15:30', '20:00-21:30',\n",
       "       '08:00-14:00', '17:00-19:30', '19:30-21:30', '21:30-00:00',\n",
       "       '18:30-21:00', '16:00-17:00', '17:00-19:00', '20:00-22:00',\n",
       "       '15:00-16:00', '18:30-22:30', '10:00-13:30'], dtype=object)"
      ]
     },
     "execution_count": 17,
     "metadata": {},
     "output_type": "execute_result"
    }
   ],
   "source": [
    "bookings['Booking Time'].unique()"
   ]
  },
  {
   "cell_type": "code",
   "execution_count": 138,
   "metadata": {},
   "outputs": [
    {
     "name": "stdout",
     "output_type": "stream",
     "text": [
      "8\n"
     ]
    }
   ],
   "source": [
    "def get_half_hr_iterations(time_range):\n",
    "    \"\"\"\n",
    "    Given string of booking time-range eg '1030-1200', return the number of 30minutes interval \n",
    "    between them eg ['0800-1030', '1200-1400','1630-2230']\n",
    "    \n",
    "    hold_start_and_end_timings -> list of start and end timings\n",
    "    \n",
    "    time_object_1 & time_object_2 -> converts the start and end timings to datetime.time objects\n",
    "    whether the day is a weekday or not. 8am to 1030pm\n",
    "    \n",
    "    start_booking_time_mins & end_booking_time_mins -> Convert the booking timings into minutes for calculation\n",
    "    of the number of 30 minutes interval. e.g. 240 minutes -> 4 hours -> 8 thirty minute intervals\n",
    "\n",
    "    \"\"\"\n",
    "    hold_start_and_end_timings = time_range.split('-')\n",
    "    time_object_1 = datetime.strptime(hold_start_and_end_timings[0],'%H:%M').time()\n",
    "    time_object_2 = datetime.strptime(hold_start_and_end_timings[1],'%H:%M').time()\n",
    "    h1, m1, s1 = time_object_1.hour, time_object_1.minute, time_object_1.second\n",
    "    h2, m2, s2 = time_object_2.hour, time_object_2.minute, time_object_2.second\n",
    "    \n",
    "    start_booking_time_mins = (m1 + 60*h1) \n",
    "    end_booking_time_mins = (m2 + 60*h2)\n",
    "    \n",
    "    return int((end_booking_time_mins - start_booking_time_mins)/60/0.5)\n",
    "\n",
    "\n",
    "print(get_half_hr_iterations('08:30-12:30'))\n",
    "\n",
    "# bookings['Booking Time'].apply(get_half_hr_iterations())"
   ]
  },
  {
   "cell_type": "code",
   "execution_count": 150,
   "metadata": {},
   "outputs": [],
   "source": [
    "def expand_df_based_on_intervals(bookings):\n",
    "    \"\"\"\n",
    "    Given a dataframe containing bookings in time-ranges e.g. 08:30-09:30, \n",
    "    returns a new dataframe after expanding the timing into \n",
    "    30 minutes interval -> 08:30, 09:00, 09:30. \n",
    "    This is done for every row of facility booking.\n",
    "    \n",
    "    new_bookings -> new pandas DataFrame to hold the expanded time-ranges based on 30 minutes interval. \n",
    "    To be returned at the end.\n",
    "    \n",
    "    num_iter -> Given string of booking time-range eg '1030-1200', return the number of 30 minutes interval \n",
    "    between them eg ['0800-1030', '1200-1400','1630-2230']\n",
    "    \n",
    "    hold_time -> String which holds the starttime after splitting the time-range by '-'. e.g. '08:30-10:30 -> 08:30'\n",
    "    \"\"\"\n",
    "\n",
    "    new_bookings = pd.DataFrame(columns=['Day','Facility','Booking Time','Purpose']) #new df to hold the intervals\n",
    "\n",
    "    for index,columns in bookings.iterrows():\n",
    "        num_iter = get_half_hr_iterations(columns['Booking Time']) #generates 30 minutes interval\n",
    "        hold_time = columns['Booking Time'].split('-')\n",
    "        hold_time = hold_time[0]\n",
    "\n",
    "        for i in range(num_iter):\n",
    "            #add a new row of record into the new df\n",
    "            new_bookings.loc[len(new_bookings)] = [columns['Day'], columns['Facility'], hold_time, columns['Purpose']] \n",
    "            \n",
    "            #add 30 minutes to the previous timing added into the new df\n",
    "            hold_time = datetime.strptime(hold_time,'%H:%M')+ timedelta(minutes=30) \n",
    "            \n",
    "            #the hold_time variable is now a datetime object because timedelta cannot be used on datetime.time() objects\n",
    "            #so, we convert it back to timings as we do not need the date\n",
    "            hold_time = hold_time.strftime(\"%H:%M\")\n",
    "\n",
    "\n",
    "\n",
    "#plot timings based on how many rows for each timing\n",
    "#popular facilities\n"
   ]
  },
  {
   "cell_type": "code",
   "execution_count": 149,
   "metadata": {},
   "outputs": [
    {
     "data": {
      "text/html": [
       "<div>\n",
       "<style scoped>\n",
       "    .dataframe tbody tr th:only-of-type {\n",
       "        vertical-align: middle;\n",
       "    }\n",
       "\n",
       "    .dataframe tbody tr th {\n",
       "        vertical-align: top;\n",
       "    }\n",
       "\n",
       "    .dataframe thead th {\n",
       "        text-align: right;\n",
       "    }\n",
       "</style>\n",
       "<table border=\"1\" class=\"dataframe\">\n",
       "  <thead>\n",
       "    <tr style=\"text-align: right;\">\n",
       "      <th></th>\n",
       "      <th>Day</th>\n",
       "      <th>Facility</th>\n",
       "      <th>Booking Time</th>\n",
       "      <th>Purpose</th>\n",
       "    </tr>\n",
       "  </thead>\n",
       "  <tbody>\n",
       "    <tr>\n",
       "      <td>count</td>\n",
       "      <td>5335</td>\n",
       "      <td>5335</td>\n",
       "      <td>5335</td>\n",
       "      <td>5335</td>\n",
       "    </tr>\n",
       "    <tr>\n",
       "      <td>unique</td>\n",
       "      <td>15</td>\n",
       "      <td>23</td>\n",
       "      <td>45</td>\n",
       "      <td>17</td>\n",
       "    </tr>\n",
       "    <tr>\n",
       "      <td>top</td>\n",
       "      <td>30 January 2020, Thursday</td>\n",
       "      <td>SIS GSR 3-6</td>\n",
       "      <td>14:30</td>\n",
       "      <td>Student</td>\n",
       "    </tr>\n",
       "    <tr>\n",
       "      <td>freq</td>\n",
       "      <td>555</td>\n",
       "      <td>343</td>\n",
       "      <td>261</td>\n",
       "      <td>3092</td>\n",
       "    </tr>\n",
       "  </tbody>\n",
       "</table>\n",
       "</div>"
      ],
      "text/plain": [
       "                              Day     Facility Booking Time  Purpose\n",
       "count                        5335         5335         5335     5335\n",
       "unique                         15           23           45       17\n",
       "top     30 January 2020, Thursday  SIS GSR 3-6        14:30  Student\n",
       "freq                          555          343          261     3092"
      ]
     },
     "execution_count": 149,
     "metadata": {},
     "output_type": "execute_result"
    }
   ],
   "source": [
    "new_bookings.describe()\n",
    "# new_bookings.info()"
   ]
  },
  {
   "cell_type": "code",
   "execution_count": 18,
   "metadata": {},
   "outputs": [
    {
     "data": {
      "text/plain": [
       "Booking Time\n",
       "00:00-10:30     1\n",
       "08:00-09:00     1\n",
       "08:00-11:30    81\n",
       "08:00-11:45     2\n",
       "08:00-13:45     2\n",
       "               ..\n",
       "20:00-22:00     1\n",
       "20:00-22:30     3\n",
       "20:30-22:30     2\n",
       "21:30-00:00     1\n",
       "22:00-22:30     1\n",
       "Length: 127, dtype: int64"
      ]
     },
     "execution_count": 18,
     "metadata": {},
     "output_type": "execute_result"
    }
   ],
   "source": [
    "bookings_time = bookings.groupby('Booking Time').size()\n",
    "bookings_time"
   ]
  },
  {
   "cell_type": "code",
   "execution_count": 19,
   "metadata": {},
   "outputs": [
    {
     "data": {
      "image/png": "[encoded data removed]",
      "text/plain": [
       "<Figure size 1152x432 with 1 Axes>"
      ]
     },
     "metadata": {
      "needs_background": "light"
     },
     "output_type": "display_data"
    }
   ],
   "source": [
    "bookings_time = bookings.groupby('Booking Time').size().reset_index(name='n')\n",
    "\n",
    "fig, ax = plt.subplots()\n",
    "bookings_time.plot(kind='bar', x='Booking Time', y='n', ax=ax, figsize=(16, 6), color='tomato',)\n",
    "ax.set_ylabel(\"No. of Bookings\")\n",
    "ax.set_xlabel(\"Booking Time\")\n",
    "plt.title(\"Distribution of Bookings\", fontsize=16)\n",
    "plt.show()"
   ]
  },
  {
   "cell_type": "code",
   "execution_count": null,
   "metadata": {},
   "outputs": [],
   "source": [
    "def filter_(x):\n",
    "    if '15:30' in x:\n",
    "        r = 1\n",
    "    else:\n",
    "        r = 0\n",
    "    return r"
   ]
  },
  {
   "cell_type": "code",
   "execution_count": null,
   "metadata": {},
   "outputs": [],
   "source": [
    "bookings['15:30'] = bookings['Booking Time'].apply(filter_)"
   ]
  },
  {
   "cell_type": "code",
   "execution_count": null,
   "metadata": {},
   "outputs": [],
   "source": [
    "bookings['15:30'].value_counts()"
   ]
  },
  {
   "cell_type": "code",
   "execution_count": null,
   "metadata": {},
   "outputs": [],
   "source": [
    "bookings"
   ]
  },
  {
   "cell_type": "code",
   "execution_count": null,
   "metadata": {},
   "outputs": [],
   "source": [
    "bookings['Purpose'].value_counts()"
   ]
  },
  {
   "cell_type": "code",
   "execution_count": null,
   "metadata": {},
   "outputs": [],
   "source": []
  }
 ],
 "metadata": {
  "kernelspec": {
   "display_name": "Python 3",
   "language": "python",
   "name": "python3"
  },
  "language_info": {
   "codemirror_mode": {
    "name": "ipython",
    "version": 3
   },
   "file_extension": ".py",
   "mimetype": "text/x-python",
   "name": "python",
   "nbconvert_exporter": "python",
   "pygments_lexer": "ipython3",
   "version": "3.7.4"
  }
 },
 "nbformat": 4,
 "nbformat_minor": 2
}
